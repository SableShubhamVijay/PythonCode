{
 "cells": [
  {
   "cell_type": "code",
   "execution_count": 1,
   "id": "a87e423e",
   "metadata": {},
   "outputs": [],
   "source": [
    "def m1():\n",
    "    print(\"in m1\")"
   ]
  },
  {
   "cell_type": "code",
   "execution_count": 2,
   "id": "206e075e",
   "metadata": {},
   "outputs": [],
   "source": [
    "f1=m1  #alising----giving the anathor name"
   ]
  },
  {
   "cell_type": "code",
   "execution_count": 5,
   "id": "daca217b",
   "metadata": {},
   "outputs": [],
   "source": [
    "#Function variable \n",
    " # 1. local variable---it is within function only.\n",
    " # 2. globle variable---"
   ]
  },
  {
   "cell_type": "code",
   "execution_count": 6,
   "id": "f67522b2",
   "metadata": {},
   "outputs": [],
   "source": [
    "def f1():\n",
    "    p='python'\n",
    "    print(p)"
   ]
  },
  {
   "cell_type": "code",
   "execution_count": 7,
   "id": "8fe38406",
   "metadata": {},
   "outputs": [
    {
     "name": "stdout",
     "output_type": "stream",
     "text": [
      "python\n"
     ]
    }
   ],
   "source": [
    "f1()"
   ]
  },
  {
   "cell_type": "code",
   "execution_count": 8,
   "id": "605bad26",
   "metadata": {},
   "outputs": [
    {
     "ename": "NameError",
     "evalue": "name 'p' is not defined",
     "output_type": "error",
     "traceback": [
      "\u001b[1;31m---------------------------------------------------------------------------\u001b[0m",
      "\u001b[1;31mNameError\u001b[0m                                 Traceback (most recent call last)",
      "\u001b[1;32m~\\AppData\\Local\\Temp/ipykernel_7120/626125819.py\u001b[0m in \u001b[0;36m<module>\u001b[1;34m\u001b[0m\n\u001b[1;32m----> 1\u001b[1;33m \u001b[0mp\u001b[0m\u001b[1;33m\u001b[0m\u001b[1;33m\u001b[0m\u001b[0m\n\u001b[0m",
      "\u001b[1;31mNameError\u001b[0m: name 'p' is not defined"
     ]
    }
   ],
   "source": [
    "p"
   ]
  },
  {
   "cell_type": "code",
   "execution_count": 9,
   "id": "a4deee08",
   "metadata": {},
   "outputs": [],
   "source": [
    "def m1():\n",
    "    t= 100\n",
    "    print(t)\n",
    "def m2():\n",
    "    k=56\n",
    "    print(k)"
   ]
  },
  {
   "cell_type": "code",
   "execution_count": 10,
   "id": "2dfecefd",
   "metadata": {},
   "outputs": [
    {
     "name": "stdout",
     "output_type": "stream",
     "text": [
      "100\n"
     ]
    }
   ],
   "source": [
    "m1()"
   ]
  },
  {
   "cell_type": "code",
   "execution_count": 11,
   "id": "6eec322a",
   "metadata": {},
   "outputs": [
    {
     "name": "stdout",
     "output_type": "stream",
     "text": [
      "56\n"
     ]
    }
   ],
   "source": [
    "m2()"
   ]
  },
  {
   "cell_type": "code",
   "execution_count": 20,
   "id": "f5119244",
   "metadata": {},
   "outputs": [],
   "source": [
    "x=100#Globle variable scope throught the program\n",
    "def t():\n",
    "    x=10\n",
    "    print(x)"
   ]
  },
  {
   "cell_type": "code",
   "execution_count": 21,
   "id": "c2ea556b",
   "metadata": {},
   "outputs": [
    {
     "name": "stdout",
     "output_type": "stream",
     "text": [
      "10\n"
     ]
    }
   ],
   "source": [
    "t()"
   ]
  },
  {
   "cell_type": "code",
   "execution_count": 22,
   "id": "7c9621ca",
   "metadata": {},
   "outputs": [
    {
     "data": {
      "text/plain": [
       "100"
      ]
     },
     "execution_count": 22,
     "metadata": {},
     "output_type": "execute_result"
    }
   ],
   "source": [
    "x"
   ]
  },
  {
   "cell_type": "code",
   "execution_count": 1,
   "id": "0e5aaf5b",
   "metadata": {},
   "outputs": [],
   "source": [
    "# MRO---- Method Resolution Order"
   ]
  },
  {
   "cell_type": "code",
   "execution_count": 41,
   "id": "bfb07dae",
   "metadata": {},
   "outputs": [],
   "source": [
    "course='python'\n",
    "def temp():\n",
    "    global course\n",
    "    course='java'\n",
    "    print (course)\n",
    "def temp1():\n",
    "    print(course)\n",
    "def temp2():\n",
    "    global course\n",
    "    course='ml'\n",
    "    print(course)\n",
    "    "
   ]
  },
  {
   "cell_type": "code",
   "execution_count": 57,
   "id": "3bb5f57b",
   "metadata": {},
   "outputs": [
    {
     "data": {
      "text/plain": [
       "'ml'"
      ]
     },
     "execution_count": 57,
     "metadata": {},
     "output_type": "execute_result"
    }
   ],
   "source": [
    "course"
   ]
  },
  {
   "cell_type": "code",
   "execution_count": 53,
   "id": "2bcce770",
   "metadata": {},
   "outputs": [
    {
     "name": "stdout",
     "output_type": "stream",
     "text": [
      "java\n"
     ]
    }
   ],
   "source": [
    "temp()"
   ]
  },
  {
   "cell_type": "code",
   "execution_count": 58,
   "id": "6c6ebb09",
   "metadata": {},
   "outputs": [
    {
     "name": "stdout",
     "output_type": "stream",
     "text": [
      "ml\n"
     ]
    }
   ],
   "source": [
    "temp1()"
   ]
  },
  {
   "cell_type": "code",
   "execution_count": 56,
   "id": "6ba96896",
   "metadata": {},
   "outputs": [
    {
     "name": "stdout",
     "output_type": "stream",
     "text": [
      "ml\n"
     ]
    }
   ],
   "source": [
    "temp2()"
   ]
  },
  {
   "cell_type": "code",
   "execution_count": 1,
   "id": "2da7c478",
   "metadata": {},
   "outputs": [],
   "source": [
    "x='hadoop'\n",
    "def daital():\n",
    "    x='pyspark'\n",
    "    print(globals()['x'])"
   ]
  },
  {
   "cell_type": "code",
   "execution_count": 2,
   "id": "a96d5099",
   "metadata": {},
   "outputs": [
    {
     "name": "stdout",
     "output_type": "stream",
     "text": [
      "hadoop\n"
     ]
    }
   ],
   "source": [
    "daital()"
   ]
  },
  {
   "cell_type": "code",
   "execution_count": 3,
   "id": "1f9594f3",
   "metadata": {},
   "outputs": [
    {
     "data": {
      "text/plain": [
       "'hadoop'"
      ]
     },
     "execution_count": 3,
     "metadata": {},
     "output_type": "execute_result"
    }
   ],
   "source": [
    "x"
   ]
  },
  {
   "cell_type": "code",
   "execution_count": 24,
   "id": "4f785af3",
   "metadata": {},
   "outputs": [],
   "source": [
    "x='hadoop'\n",
    "def details():\n",
    "    x='pyspark'\n",
    "    global z\n",
    "    z=globals()['x']\n",
    "def temp1():\n",
    "    print(z)"
   ]
  },
  {
   "cell_type": "code",
   "execution_count": 21,
   "id": "d67e58d8",
   "metadata": {},
   "outputs": [
    {
     "name": "stdout",
     "output_type": "stream",
     "text": [
      "hadoop\n"
     ]
    }
   ],
   "source": [
    "temp1()"
   ]
  },
  {
   "cell_type": "code",
   "execution_count": 22,
   "id": "edf70b34",
   "metadata": {},
   "outputs": [
    {
     "name": "stdout",
     "output_type": "stream",
     "text": [
      "hadoop\n"
     ]
    }
   ],
   "source": [
    "print(z)"
   ]
  },
  {
   "cell_type": "code",
   "execution_count": 25,
   "id": "ccbdedc4",
   "metadata": {},
   "outputs": [
    {
     "data": {
      "text/plain": [
       "'hadoop'"
      ]
     },
     "execution_count": 25,
     "metadata": {},
     "output_type": "execute_result"
    }
   ],
   "source": [
    "z"
   ]
  },
  {
   "cell_type": "code",
   "execution_count": null,
   "id": "139209f5",
   "metadata": {},
   "outputs": [],
   "source": [
    "#decoretor---"
   ]
  },
  {
   "cell_type": "code",
   "execution_count": 2,
   "id": "7db727dd",
   "metadata": {},
   "outputs": [],
   "source": [
    "def decor(func):\n",
    "    def inner():\n",
    "        print('#'*15)\n",
    "        func()\n",
    "        print('#'*15)\n",
    "    return inner\n",
    "@decor\n",
    "def greet():\n",
    "    print(\"WELCOME\")\n",
    "    "
   ]
  },
  {
   "cell_type": "code",
   "execution_count": 3,
   "id": "b6146480",
   "metadata": {},
   "outputs": [
    {
     "name": "stdout",
     "output_type": "stream",
     "text": [
      "###############\n",
      "WELCOME\n",
      "###############\n"
     ]
    }
   ],
   "source": [
    "greet()"
   ]
  },
  {
   "cell_type": "code",
   "execution_count": 4,
   "id": "202fc9aa",
   "metadata": {},
   "outputs": [],
   "source": [
    "@decor\n",
    "def f():\n",
    "    print ('hi')"
   ]
  },
  {
   "cell_type": "code",
   "execution_count": 5,
   "id": "bca93601",
   "metadata": {},
   "outputs": [
    {
     "name": "stdout",
     "output_type": "stream",
     "text": [
      "###############\n",
      "hi\n",
      "###############\n"
     ]
    }
   ],
   "source": [
    "f()"
   ]
  },
  {
   "cell_type": "code",
   "execution_count": null,
   "id": "fad75125",
   "metadata": {},
   "outputs": [],
   "source": []
  }
 ],
 "metadata": {
  "kernelspec": {
   "display_name": "Python 3 (ipykernel)",
   "language": "python",
   "name": "python3"
  },
  "language_info": {
   "codemirror_mode": {
    "name": "ipython",
    "version": 3
   },
   "file_extension": ".py",
   "mimetype": "text/x-python",
   "name": "python",
   "nbconvert_exporter": "python",
   "pygments_lexer": "ipython3",
   "version": "3.10.0"
  }
 },
 "nbformat": 4,
 "nbformat_minor": 5
}
